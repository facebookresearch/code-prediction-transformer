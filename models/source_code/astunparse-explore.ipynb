{
 "cells": [
  {
   "cell_type": "code",
   "execution_count": null,
   "metadata": {},
   "outputs": [],
   "source": [
    "import os, sys\n",
    "print(os.getcwd())\n",
    "project_root_path = os.path.join(os.getcwd(), '../..')\n",
    "if project_root_path not in sys.path:\n",
    "    sys.path.append(project_root_path)"
   ]
  },
  {
   "cell_type": "code",
   "execution_count": null,
   "metadata": {
    "collapsed": true
   },
   "outputs": [],
   "source": [
    "src_root_path = os.path.expanduser('~/data/py150_files/')\n",
    "src_index_path = os.path.join(src_root_path, 'python50k_eval.txt')"
   ]
  },
  {
   "cell_type": "code",
   "execution_count": null,
   "metadata": {
    "collapsed": true
   },
   "outputs": [],
   "source": [
    "def iindex(it, i):\n",
    "    for ix, x in enumerate(it):\n",
    "        if ix >= i:\n",
    "            return x\n",
    "    raise IndexError(\"Index ({i}) larger than the size of the iterator.\".format(i))\n",
    "\n",
    "assert iindex(range(10), 8) == 8"
   ]
  },
  {
   "cell_type": "code",
   "execution_count": null,
   "metadata": {
    "collapsed": true
   },
   "outputs": [],
   "source": []
  },
  {
   "cell_type": "code",
   "execution_count": null,
   "metadata": {},
   "outputs": [],
   "source": [
    "from StringIO import StringIO\n",
    "\n",
    "from generate_data import *\n",
    "\n",
    "    \n",
    "def src_value_toks(code_str):\n",
    "    t = ast.parse(code_str)\n",
    "    lst = MyListFile()\n",
    "    Unparser(t, lst)\n",
    "    for src_tok in lst:\n",
    "        text, _typ = src_tok.text, src_tok.type\n",
    "        if _typ is not None :\n",
    "            \n",
    "            if _typ == \"Str\":\n",
    "                yield eval(text) \n",
    "                continue\n",
    "            if _typ == 'Num':\n",
    "                yield unicode(eval(text))\n",
    "                continue\n",
    "            yield text"
   ]
  },
  {
   "cell_type": "code",
   "execution_count": null,
   "metadata": {
    "collapsed": true
   },
   "outputs": [],
   "source": [
    "def tree_value_toks(tree):\n",
    "    for node in tree:\n",
    "        if 'value' in node:\n",
    "            text = node['value']\n",
    "            _typ = node['type']\n",
    "            \n",
    "#             if _typ == 'Num':\n",
    "#                 yield eval(text) \n",
    "#                 continue\n",
    "            yield text"
   ]
  },
  {
   "cell_type": "code",
   "execution_count": null,
   "metadata": {
    "collapsed": true
   },
   "outputs": [],
   "source": []
  },
  {
   "cell_type": "code",
   "execution_count": null,
   "metadata": {},
   "outputs": [],
   "source": [
    "i_src = 4335\n",
    "src_path = os.path.join(src_root_path, iindex(open(src_index_path), i_src).strip())\n",
    "src_path"
   ]
  },
  {
   "cell_type": "code",
   "execution_count": null,
   "metadata": {},
   "outputs": [],
   "source": [
    "import json\n",
    "\n",
    "tree_bank_path = os.path.expanduser('~/data/py150/python50k_eval.json')\n",
    "tree = json.loads(iindex(open(tree_bank_path), i_src))\n",
    "len(tree)"
   ]
  },
  {
   "cell_type": "code",
   "execution_count": null,
   "metadata": {},
   "outputs": [],
   "source": [
    "svt_list = list(src_value_toks(open(src_path).read()))\n",
    "tvt_list = list(tree_value_toks(tree))\n",
    "print len(svt_list) == len(tvt_list) \n",
    "print set(svt_list) == set(tvt_list)\n",
    "print set(svt_list) - set(tvt_list)\n",
    "print set(tvt_list) - set(svt_list)"
   ]
  },
  {
   "cell_type": "code",
   "execution_count": null,
   "metadata": {},
   "outputs": [],
   "source": [
    "value = 1254213006.517507\n",
    "print repr(value)\n",
    "print str(value)"
   ]
  },
  {
   "cell_type": "code",
   "execution_count": null,
   "metadata": {
    "collapsed": true
   },
   "outputs": [],
   "source": []
  },
  {
   "cell_type": "code",
   "execution_count": null,
   "metadata": {},
   "outputs": [],
   "source": [
    "from itertools import izip as zip\n",
    "from tqdm import tqdm\n",
    "\n",
    "error_cnt = 0\n",
    "with open(tree_bank_path) as f_tree_bank, open(src_index_path) as f_src_index:\n",
    "    for i_src, (tree_line, src_index_line) in tqdm(enumerate(zip(f_tree_bank, f_src_index))):\n",
    "        if i_src % 103 != 42: \n",
    "            continue\n",
    "        \n",
    "        tree = json.loads(tree_line)\n",
    "        src_path = os.path.join(src_root_path, src_index_line.strip())\n",
    "        \n",
    "        svt_list = list(src_value_toks(open(src_path).read()))\n",
    "        tvt_list = list(tree_value_toks(tree))\n",
    "        if len(svt_list) == len(tvt_list) and set(svt_list) == set(tvt_list):\n",
    "            continue\n",
    "        else:\n",
    "            print i_src\n",
    "            error_cnt += 1\n",
    "            assert error_cnt < 10\n",
    "            "
   ]
  }
 ],
 "metadata": {
  "kernelspec": {
   "display_name": "Python 2",
   "language": "python",
   "name": "python2"
  },
  "language_info": {
   "codemirror_mode": {
    "name": "ipython",
    "version": 2
   },
   "file_extension": ".py",
   "mimetype": "text/x-python",
   "name": "python",
   "nbconvert_exporter": "python",
   "pygments_lexer": "ipython2",
   "version": "2.7.12"
  }
 },
 "nbformat": 4,
 "nbformat_minor": 2
}
